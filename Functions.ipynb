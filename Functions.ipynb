{
  "nbformat": 4,
  "nbformat_minor": 0,
  "metadata": {
    "colab": {
      "provenance": []
    },
    "kernelspec": {
      "name": "python3",
      "display_name": "Python 3"
    },
    "language_info": {
      "name": "python"
    }
  },
  "cells": [
    {
      "cell_type": "markdown",
      "source": [
        "1. What is the difference between a function and a method in Python?\n",
        "-Function: A block of code defined using def, not bound to an object.\n",
        "\n",
        "Method: A function associated with an object/class\n",
        "\n",
        "2. Explain the concept of function arguments and parameters in Python.\n",
        "-PARAMETERS:Variables inside the parentheses when function is defined which act as placeholders for the values that will be passed to the function.\n",
        "\n",
        "ARGUMENTS: Actual values that ae passed in the function when it is passed.\n",
        "\n",
        "3. What are the different ways to define and call a function in Python?\n",
        "-Regular function call:\n",
        "  def greet(name):\n",
        "    print(\"Hello\", name)\n",
        "- function with multiple parameters:\n",
        "def add(a, b):\n",
        "    return a + b\n",
        "-default parameter\n",
        "def greet(name=\"Guest\"):\n",
        "    print(\"Hello\", name)\n",
        "    \n",
        "\n",
        "4. What is the purpose of the `return` statement in a Python function?\n",
        "-the return statement is used to send a result back from a function to the caller. It also ends execution of function immediately.\n",
        "\n",
        "def add(a, b):\n",
        "    return a + b\n",
        "\n",
        "result = add(2, 3)  # result now holds 5\n",
        "\n",
        "\n",
        "5. What are iterators in Python and how do they differ from iterables?\n",
        "- Iterables are objects that can be looped over (like lists, tuples), while iterators are objects that produce items one at a time using the next() method.\n",
        "\n",
        "nums = [1, 2, 3]       # Iterable\n",
        "it = iter(nums)        # Iterator\n",
        "\n",
        "print(next(it))        # Output: 1\n",
        "An iterator is created from an iterable using iter(), and it keeps track of the current position.\n",
        "\n",
        "6. Explain the concept of generators in Python and how they are defined.\n",
        "-Generators in Python are special functions that yield values one at a time using the yield keyword, instead of returning them all at once like regular functions.\n",
        "-def square_number_generators(n):\n",
        "    for i in range(n):\n",
        "        yield i**2\n",
        "\n",
        "7. What are the advantages of using generators over regular functions?\n",
        "-They are a memory-efficient way to iterate over large sequences.\n",
        "-They generate values only when needed.\n",
        "\n",
        "8. What is a lambda function in Python and when is it typically used?\n",
        "- A lambda function is an anonymous, small function defined using the lambda keyword used for simple operations where defining a full function is unnecessary.\n",
        "# Example:\n",
        "square = lambda x: x * x\n",
        "print(square(4))             # Output: 16\n",
        "\n",
        "\n",
        "9. Explain the purpose and usage of the `map()` function in Python.\n",
        "-map executes a specified function for each of iterm of an iterable\n",
        "Purpose:\n",
        "It is used when you want to apply a function to every item in an iterable and get the results as a new iterable.\n",
        "#syntax >> map(func,*iterables)\n",
        "\n",
        "10. What is the difference between `map()`, `reduce()`, and `filter()` functions in Python?\n",
        "\n",
        "-map(): Transforms each item.\n",
        "numbers = [1, 2, 3]\n",
        "squared = map(lambda x: x**2, numbers)\n",
        "print(list(squared))  # Output: [1, 4, 9]\n",
        "\n",
        "\n",
        "-reduce(): Reduces to a single value.\n",
        "Example:\n",
        "from functools import reduce\n",
        "numbers = [1, 2, 3]\n",
        "result = reduce(lambda x, y: x + y, numbers)\n",
        "print(result)                         # Output: 6\n",
        "\n",
        "-filter():\n",
        "Filters items in an iterable based on a function that returns a boolean.\n",
        "Returns items where the function returns True.\n",
        "eg:\n",
        "numbers = [1, 2, 3]\n",
        "filtered = filter(lambda x: x > 1, numbers)\n",
        "print(list(filtered))  # Output: [2, 3]\n",
        "\n",
        "\n",
        "\n",
        "\n"
      ],
      "metadata": {
        "id": "tCS31EHS4J93"
      }
    },
    {
      "cell_type": "markdown",
      "source": [],
      "metadata": {
        "id": "1TTT1JzmPcSv"
      }
    },
    {
      "cell_type": "code",
      "execution_count": null,
      "metadata": {
        "id": "xlvizaBF4IeY",
        "colab": {
          "base_uri": "https://localhost:8080/"
        },
        "outputId": "3320b2e0-cf83-4acd-cd8e-c526db27ee8b"
      },
      "outputs": [
        {
          "output_type": "execute_result",
          "data": {
            "text/plain": [
              "6"
            ]
          },
          "metadata": {},
          "execution_count": 3
        }
      ],
      "source": [
        "#1. Write function that takes a list of numbers as input and returns the sum of all even numbers int list.\n",
        "def sum_list(l):\n",
        "  lsum=[]\n",
        "  for i in l:\n",
        "    if i%2==0:\n",
        "      lsum.append(i)\n",
        "  return sum(lsum)\n",
        "\n",
        "sum_list([1,2,3,4])"
      ]
    },
    {
      "cell_type": "code",
      "source": [
        "#2.Create a Python function that accepts a string and returns the reverse of that string\n",
        "def revstring(s):\n",
        "  return s[::-1]\n",
        "\n",
        "revstring(\"physics\")"
      ],
      "metadata": {
        "colab": {
          "base_uri": "https://localhost:8080/",
          "height": 36
        },
        "id": "SmwzbLu5Y-EE",
        "outputId": "c613a638-0b5a-4d50-87fa-4f1e0e0962de"
      },
      "execution_count": null,
      "outputs": [
        {
          "output_type": "execute_result",
          "data": {
            "text/plain": [
              "'scisyhp'"
            ],
            "application/vnd.google.colaboratory.intrinsic+json": {
              "type": "string"
            }
          },
          "metadata": {},
          "execution_count": 4
        }
      ]
    },
    {
      "cell_type": "code",
      "source": [
        "#3.function that takes a list of integers and returns a new list containing the squares of each number.\n",
        "def sq_list(l1):\n",
        "  sqlist=[]\n",
        "  for i in l1:\n",
        "    sqlist.append(i*i)\n",
        "  return sqlist\n",
        "\n",
        "sq_list([2,3,4,5])\n"
      ],
      "metadata": {
        "colab": {
          "base_uri": "https://localhost:8080/"
        },
        "id": "el7B0Zz6Zafw",
        "outputId": "8a337b7a-874d-4339-ba0e-164a464d1f1d"
      },
      "execution_count": null,
      "outputs": [
        {
          "output_type": "execute_result",
          "data": {
            "text/plain": [
              "[4, 9, 16, 25]"
            ]
          },
          "metadata": {},
          "execution_count": 8
        }
      ]
    },
    {
      "cell_type": "code",
      "source": [
        "#4function that checks if a given number is prime or not from 1 to 200\n",
        "def is_prime(n):\n",
        "    if n < 2:\n",
        "        return False\n",
        "    for i in range(2, int(n**0.5) + 1):\n",
        "        if n % i == 0:\n",
        "            return False\n",
        "    return True\n",
        "\n",
        "# Check and print primes from 1 to 200\n",
        "for num in range(1, 201):\n",
        "    if is_prime(num):\n",
        "        print(num, \"is a prime number\")\n"
      ],
      "metadata": {
        "id": "oTLx2CkTb9yi"
      },
      "execution_count": null,
      "outputs": []
    },
    {
      "cell_type": "code",
      "source": [
        "#5. Create an iterator class that generates the Fibonacci sequence up to a specified number ofterms\n",
        "fib = lambda n: n if n<=1 else fib(n-1) + fib(n-2)\n",
        "[fib(i) for i in range(10)]"
      ],
      "metadata": {
        "id": "1kFezwVxb-_-",
        "collapsed": true
      },
      "execution_count": null,
      "outputs": []
    },
    {
      "cell_type": "code",
      "source": [
        "#6Write a generator function in Python that yields the powers of 2 up to a given exponent\n",
        "def powers_of_two(n):\n",
        "    for i in range(n + 1):\n",
        "        yield 2 ** i\n",
        "\n",
        "for num in powers_of_two(5):\n",
        "    print(num)\n"
      ],
      "metadata": {
        "id": "bK0bADCDcGBd"
      },
      "execution_count": null,
      "outputs": []
    },
    {
      "cell_type": "code",
      "source": [
        "#7Implement a generator function that reads a file line by line and yields each line as a string\n",
        "def read_file_line(file_path):\n",
        "    with open(file_path, 'r') as file:\n",
        "        for line in file:\n",
        "            yield line()\n"
      ],
      "metadata": {
        "id": "2U-kPitjcZ0l"
      },
      "execution_count": null,
      "outputs": []
    },
    {
      "cell_type": "code",
      "source": [
        "#8Use lambda function to sort a list of tuples based on the second element of each tuple\n",
        "tuples_list = [(1, 3), (2, 2), (3, 1), (4, 4),(5,1),(0,0)]\n",
        "\n",
        "sorted_list = sorted(tuples_list, key=lambda x: x[1])\n",
        "\n",
        "print(sorted_list)"
      ],
      "metadata": {
        "colab": {
          "base_uri": "https://localhost:8080/"
        },
        "id": "EsmBrD7NNnH4",
        "outputId": "cc5da168-ce92-4929-dff6-398c0d9b3083"
      },
      "execution_count": 1,
      "outputs": [
        {
          "output_type": "stream",
          "name": "stdout",
          "text": [
            "[(0, 0), (3, 1), (5, 1), (2, 2), (1, 3), (4, 4)]\n"
          ]
        }
      ]
    },
    {
      "cell_type": "code",
      "source": [
        "#9`map()` to convert a list of temperatures from Celsius to Fahrenheit\n",
        "c=[10,20,30,40]\n",
        "list(map(lambda x: (x*9/5)+32,c))"
      ],
      "metadata": {
        "colab": {
          "base_uri": "https://localhost:8080/"
        },
        "id": "SE_SAoqQMsoE",
        "outputId": "937400ee-894d-46d3-af98-69d376002204"
      },
      "execution_count": 2,
      "outputs": [
        {
          "output_type": "execute_result",
          "data": {
            "text/plain": [
              "[50.0, 68.0, 86.0, 104.0]"
            ]
          },
          "metadata": {},
          "execution_count": 2
        }
      ]
    },
    {
      "cell_type": "code",
      "source": [
        "#10`filter()` to remove all the vowels from a given string.\n",
        "s=\"hello world\"\n",
        "list(filter(lambda x: x not in ['a','e','i','o','u'],s))"
      ],
      "metadata": {
        "colab": {
          "base_uri": "https://localhost:8080/"
        },
        "id": "bWtEf3UzNQ49",
        "outputId": "dc62c23a-77fb-4218-c7ad-bc058ab56e99"
      },
      "execution_count": 7,
      "outputs": [
        {
          "output_type": "execute_result",
          "data": {
            "text/plain": [
              "['h', 'l', 'l', ' ', 'w', 'r', 'l', 'd']"
            ]
          },
          "metadata": {},
          "execution_count": 7
        }
      ]
    }
  ]
}